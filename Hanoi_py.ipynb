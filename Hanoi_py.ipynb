{
  "nbformat": 4,
  "nbformat_minor": 0,
  "metadata": {
    "colab": {
      "provenance": []
    },
    "kernelspec": {
      "name": "python3",
      "display_name": "Python 3"
    },
    "language_info": {
      "name": "python"
    }
  },
  "cells": [
    {
      "cell_type": "code",
      "execution_count": 5,
      "metadata": {
        "colab": {
          "base_uri": "https://localhost:8080/"
        },
        "id": "UY2ErdjmN_qM",
        "outputId": "2cf5b5a0-7a70-4302-b1f8-54f1697c11e7"
      },
      "outputs": [
        {
          "output_type": "stream",
          "name": "stdout",
          "text": [
            "disco 1->disco 3\n",
            "disco 1->disco 2\n",
            "disco 3->disco 2\n",
            "disco 1->disco 3\n",
            "disco 2->disco 1\n",
            "disco 2->disco 3\n",
            "disco 1->disco 3\n"
          ]
        }
      ],
      "source": [
        "def hanoi(discos, A, C, B):\n",
        "  if discos == 1:\n",
        "    print(A+\"->\"+C)\n",
        "  else:\n",
        "    #hanoi con 2 discos, A como el poste de origen, B como el poste auxiliar \n",
        "    #y C como el poste de destino. Esto mueve los 2 discos superiores \n",
        "    #del poste de origen A al poste auxiliar B, \n",
        "    #utilizando el poste de destino C como auxiliar.\n",
        "    hanoi(discos - 1, A, B, C)\n",
        "    #mover el disco restante (el disco más grande) \n",
        "    #desde el poste de origen A al poste de destino C.\n",
        "    print(A+\"->\"+C)\n",
        "    #B como el poste de origen, C como el poste de destino \n",
        "    #y A como el poste auxiliar.\n",
        "    hanoi(discos - 1, B, C, A)\n",
        "\n",
        "hanoi(3, \"disco 1\", \"disco 3\", \"disco 2\")"
      ]
    }
  ]
}